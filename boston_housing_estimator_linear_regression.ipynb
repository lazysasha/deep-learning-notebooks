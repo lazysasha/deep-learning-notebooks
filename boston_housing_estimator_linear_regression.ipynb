{
 "cells": [
  {
   "cell_type": "code",
   "execution_count": 1,
   "metadata": {
    "collapsed": true
   },
   "outputs": [],
   "source": [
    "import tensorflow as tf\n",
    "import pandas as pd\n",
    "from tensorflow import feature_column as fc\n",
    "from tensorflow.keras.datasets import boston_housing"
   ]
  },
  {
   "cell_type": "code",
   "execution_count": 2,
   "outputs": [
    {
     "name": "stdout",
     "output_type": "stream",
     "text": [
      "Downloading data from https://storage.googleapis.com/tensorflow/tf-keras-datasets/boston_housing.npz\n",
      "57344/57026 [==============================] - 0s 0us/step\b\b\b\b\b\b\b\b\b\b\b\b\b\b\b\b\b\b\b\b\b\b\b\b\b\b\b\b\b\b\b\b\b\b\b\b\b\b\b\b\b\b\b\b\b\b\b\b\b\b\n"
     ]
    }
   ],
   "source": [
    "# Load the Dataset\n",
    "(x_train, y_train), (x_test, y_test) = boston_housing.load_data()"
   ],
   "metadata": {
    "collapsed": false,
    "pycharm": {
     "name": "#%%\n"
    }
   }
  },
  {
   "cell_type": "code",
   "execution_count": 5,
   "outputs": [
    {
     "data": {
      "text/plain": "      CRIM    ZN  INDUS  CHAS    NOX     RM    AGE     DIS   RAD    TAX  \\\n0  1.23247   0.0   8.14   0.0  0.538  6.142   91.7  3.9769   4.0  307.0   \n1  0.02177  82.5   2.03   0.0  0.415  7.610   15.7  6.2700   2.0  348.0   \n2  4.89822   0.0  18.10   0.0  0.631  4.970  100.0  1.3325  24.0  666.0   \n3  0.03961   0.0   5.19   0.0  0.515  6.037   34.5  5.9853   5.0  224.0   \n4  3.69311   0.0  18.10   0.0  0.713  6.376   88.4  2.5671  24.0  666.0   \n\n   PTRATIO       B  LSTAT  \n0     21.0  396.90  18.72  \n1     14.7  395.38   3.11  \n2     20.2  375.52   3.26  \n3     20.2  396.90   8.01  \n4     20.2  391.43  14.65  ",
      "text/html": "<div>\n<style scoped>\n    .dataframe tbody tr th:only-of-type {\n        vertical-align: middle;\n    }\n\n    .dataframe tbody tr th {\n        vertical-align: top;\n    }\n\n    .dataframe thead th {\n        text-align: right;\n    }\n</style>\n<table border=\"1\" class=\"dataframe\">\n  <thead>\n    <tr style=\"text-align: right;\">\n      <th></th>\n      <th>CRIM</th>\n      <th>ZN</th>\n      <th>INDUS</th>\n      <th>CHAS</th>\n      <th>NOX</th>\n      <th>RM</th>\n      <th>AGE</th>\n      <th>DIS</th>\n      <th>RAD</th>\n      <th>TAX</th>\n      <th>PTRATIO</th>\n      <th>B</th>\n      <th>LSTAT</th>\n    </tr>\n  </thead>\n  <tbody>\n    <tr>\n      <th>0</th>\n      <td>1.23247</td>\n      <td>0.0</td>\n      <td>8.14</td>\n      <td>0.0</td>\n      <td>0.538</td>\n      <td>6.142</td>\n      <td>91.7</td>\n      <td>3.9769</td>\n      <td>4.0</td>\n      <td>307.0</td>\n      <td>21.0</td>\n      <td>396.90</td>\n      <td>18.72</td>\n    </tr>\n    <tr>\n      <th>1</th>\n      <td>0.02177</td>\n      <td>82.5</td>\n      <td>2.03</td>\n      <td>0.0</td>\n      <td>0.415</td>\n      <td>7.610</td>\n      <td>15.7</td>\n      <td>6.2700</td>\n      <td>2.0</td>\n      <td>348.0</td>\n      <td>14.7</td>\n      <td>395.38</td>\n      <td>3.11</td>\n    </tr>\n    <tr>\n      <th>2</th>\n      <td>4.89822</td>\n      <td>0.0</td>\n      <td>18.10</td>\n      <td>0.0</td>\n      <td>0.631</td>\n      <td>4.970</td>\n      <td>100.0</td>\n      <td>1.3325</td>\n      <td>24.0</td>\n      <td>666.0</td>\n      <td>20.2</td>\n      <td>375.52</td>\n      <td>3.26</td>\n    </tr>\n    <tr>\n      <th>3</th>\n      <td>0.03961</td>\n      <td>0.0</td>\n      <td>5.19</td>\n      <td>0.0</td>\n      <td>0.515</td>\n      <td>6.037</td>\n      <td>34.5</td>\n      <td>5.9853</td>\n      <td>5.0</td>\n      <td>224.0</td>\n      <td>20.2</td>\n      <td>396.90</td>\n      <td>8.01</td>\n    </tr>\n    <tr>\n      <th>4</th>\n      <td>3.69311</td>\n      <td>0.0</td>\n      <td>18.10</td>\n      <td>0.0</td>\n      <td>0.713</td>\n      <td>6.376</td>\n      <td>88.4</td>\n      <td>2.5671</td>\n      <td>24.0</td>\n      <td>666.0</td>\n      <td>20.2</td>\n      <td>391.43</td>\n      <td>14.65</td>\n    </tr>\n  </tbody>\n</table>\n</div>"
     },
     "execution_count": 5,
     "metadata": {},
     "output_type": "execute_result"
    }
   ],
   "source": [
    "# Prepare Data Frames for easier processing\n",
    "features = ['CRIM', 'ZN', 'INDUS', 'CHAS', 'NOX', 'RM', 'AGE', 'DIS', 'RAD', 'TAX', 'PTRATIO', 'B', 'LSTAT']\n",
    "\n",
    "x_train_df = pd.DataFrame(x_train, columns=features)\n",
    "x_test_df = pd.DataFrame(x_test, columns=features)\n",
    "y_train_df = pd.DataFrame(y_train, columns=['MEDV'])\n",
    "y_test_df = pd.DataFrame(y_test, columns=['MEDV'])\n",
    "x_train_df.head()"
   ],
   "metadata": {
    "collapsed": false,
    "pycharm": {
     "name": "#%%\n"
    }
   }
  },
  {
   "cell_type": "code",
   "execution_count": 6,
   "outputs": [],
   "source": [
    "# Gather all the features\n",
    "feature_columns = []\n",
    "for feature_name in features:\n",
    "    feature_columns.append(fc.numeric_column(feature_name, dtype=tf.float32))"
   ],
   "metadata": {
    "collapsed": false,
    "pycharm": {
     "name": "#%%\n"
    }
   }
  },
  {
   "cell_type": "code",
   "execution_count": 7,
   "outputs": [],
   "source": [
    "# Create input functions\n",
    "def estimator_input_fun(df_data, df_label, epochs=10, shuffle=True, batch_size=32):\n",
    "    def input_function():\n",
    "        ds = tf.data.Dataset.from_tensor_slices((dict(df_data), df_label))\n",
    "        if shuffle:\n",
    "            ds = ds.shuffle(100)\n",
    "        ds = ds.batch(batch_size).repeat(epochs)\n",
    "        return ds\n",
    "    return input_function\n",
    "\n",
    "train_input_fun = estimator_input_fun(x_train_df, y_train_df)\n",
    "val_input_fun = estimator_input_fun(x_test_df, y_test_df, epochs=1, shuffle=False)\n"
   ],
   "metadata": {
    "collapsed": false,
    "pycharm": {
     "name": "#%%\n"
    }
   }
  },
  {
   "cell_type": "code",
   "execution_count": 11,
   "outputs": [
    {
     "name": "stdout",
     "output_type": "stream",
     "text": [
      "INFO:tensorflow:Using default config.\n",
      "INFO:tensorflow:Using config: {'_model_dir': 'logs/func/', '_tf_random_seed': None, '_save_summary_steps': 100, '_save_checkpoints_steps': None, '_save_checkpoints_secs': 600, '_session_config': allow_soft_placement: true\n",
      "graph_options {\n",
      "  rewrite_options {\n",
      "    meta_optimizer_iterations: ONE\n",
      "  }\n",
      "}\n",
      ", '_keep_checkpoint_max': 5, '_keep_checkpoint_every_n_hours': 10000, '_log_step_count_steps': 100, '_train_distribute': None, '_device_fn': None, '_protocol': None, '_eval_distribute': None, '_experimental_distribute': None, '_experimental_max_worker_delay_secs': None, '_session_creation_timeout_secs': 7200, '_checkpoint_save_graph_def': True, '_service': None, '_cluster_spec': ClusterSpec({}), '_task_type': 'worker', '_task_id': 0, '_global_id_in_cluster': 0, '_master': '', '_evaluation_master': '', '_is_chief': True, '_num_ps_replicas': 0, '_num_worker_replicas': 1}\n",
      "INFO:tensorflow:Calling model_fn.\n"
     ]
    },
    {
     "name": "stderr",
     "output_type": "stream",
     "text": [
      "/usr/local/lib/python3.8/site-packages/tensorflow/python/keras/engine/base_layer_v1.py:1727: UserWarning: `layer.add_variable` is deprecated and will be removed in a future version. Please use `layer.add_weight` method instead.\n",
      "  warnings.warn('`layer.add_variable` is deprecated and '\n"
     ]
    },
    {
     "name": "stdout",
     "output_type": "stream",
     "text": [
      "INFO:tensorflow:Done calling model_fn.\n",
      "INFO:tensorflow:Create CheckpointSaverHook.\n",
      "INFO:tensorflow:Graph was finalized.\n",
      "INFO:tensorflow:Running local_init_op.\n",
      "INFO:tensorflow:Done running local_init_op.\n",
      "INFO:tensorflow:Calling checkpoint listeners before saving checkpoint 0...\n",
      "INFO:tensorflow:Saving checkpoints for 0 into logs/func/model.ckpt.\n",
      "INFO:tensorflow:Calling checkpoint listeners after saving checkpoint 0...\n",
      "INFO:tensorflow:loss = 513.51624, step = 0\n",
      "INFO:tensorflow:Calling checkpoint listeners before saving checkpoint 100...\n",
      "INFO:tensorflow:Saving checkpoints for 100 into logs/func/model.ckpt.\n",
      "INFO:tensorflow:Calling checkpoint listeners after saving checkpoint 100...\n",
      "INFO:tensorflow:Loss for final step: 55.55261.\n",
      "INFO:tensorflow:Calling model_fn.\n"
     ]
    },
    {
     "name": "stderr",
     "output_type": "stream",
     "text": [
      "/usr/local/lib/python3.8/site-packages/tensorflow/python/keras/engine/base_layer_v1.py:1727: UserWarning: `layer.add_variable` is deprecated and will be removed in a future version. Please use `layer.add_weight` method instead.\n",
      "  warnings.warn('`layer.add_variable` is deprecated and '\n"
     ]
    },
    {
     "name": "stdout",
     "output_type": "stream",
     "text": [
      "INFO:tensorflow:Done calling model_fn.\n",
      "INFO:tensorflow:Starting evaluation at 2021-06-11T22:25:07Z\n",
      "INFO:tensorflow:Graph was finalized.\n",
      "INFO:tensorflow:Restoring parameters from logs/func/model.ckpt-100\n",
      "INFO:tensorflow:Running local_init_op.\n",
      "INFO:tensorflow:Done running local_init_op.\n",
      "INFO:tensorflow:Inference Time : 0.26729s\n",
      "INFO:tensorflow:Finished evaluation at 2021-06-11-22:25:08\n",
      "INFO:tensorflow:Saving dict for global step 100: average_loss = 69.61237, global_step = 100, label/mean = 23.078432, loss = 82.44842, prediction/mean = 22.215874\n",
      "INFO:tensorflow:Saving 'checkpoint_path' summary for global step 100: logs/func/model.ckpt-100\n"
     ]
    }
   ],
   "source": [
    "# Build & train the estimator\n",
    "linear_est = tf.estimator.LinearRegressor(feature_columns=feature_columns, model_dir='logs/func/')\n",
    "linear_est.train(train_input_fun, steps=100)\n",
    "result = linear_est.evaluate(val_input_fun)"
   ],
   "metadata": {
    "collapsed": false,
    "pycharm": {
     "name": "#%%\n"
    }
   }
  },
  {
   "cell_type": "code",
   "execution_count": 12,
   "outputs": [
    {
     "name": "stdout",
     "output_type": "stream",
     "text": [
      "INFO:tensorflow:Calling model_fn.\n"
     ]
    },
    {
     "name": "stderr",
     "output_type": "stream",
     "text": [
      "/usr/local/lib/python3.8/site-packages/tensorflow/python/keras/engine/base_layer_v1.py:1727: UserWarning: `layer.add_variable` is deprecated and will be removed in a future version. Please use `layer.add_weight` method instead.\n",
      "  warnings.warn('`layer.add_variable` is deprecated and '\n"
     ]
    },
    {
     "name": "stdout",
     "output_type": "stream",
     "text": [
      "INFO:tensorflow:Done calling model_fn.\n",
      "INFO:tensorflow:Graph was finalized.\n",
      "INFO:tensorflow:Restoring parameters from logs/func/model.ckpt-100\n",
      "INFO:tensorflow:Running local_init_op.\n",
      "INFO:tensorflow:Done running local_init_op.\n",
      "Predicted:  3.3225527 Expected: 7.2\n",
      "Predicted:  22.66687 Expected: 18.8\n",
      "Predicted:  21.299503 Expected: 19.0\n",
      "Predicted:  22.66605 Expected: 27.0\n",
      "Predicted:  21.883333 Expected: 22.2\n",
      "Predicted:  21.10038 Expected: 24.5\n",
      "Predicted:  29.275932 Expected: 31.2\n",
      "Predicted:  25.054379 Expected: 22.9\n",
      "Predicted:  19.889421 Expected: 20.5\n",
      "Predicted:  22.97792 Expected: 23.2\n",
      "Predicted:  8.811323 Expected: 18.6\n",
      "Predicted:  22.16803 Expected: 14.5\n",
      "Predicted:  22.366486 Expected: 17.8\n",
      "Predicted:  22.248493 Expected: 50.0\n",
      "Predicted:  17.720222 Expected: 20.8\n",
      "Predicted:  24.292896 Expected: 24.3\n",
      "Predicted:  20.047888 Expected: 24.2\n",
      "Predicted:  20.77812 Expected: 19.8\n",
      "Predicted:  22.76529 Expected: 19.1\n",
      "Predicted:  25.10835 Expected: 22.7\n",
      "Predicted:  18.519823 Expected: 12.0\n",
      "Predicted:  4.4706125 Expected: 10.2\n",
      "Predicted:  20.877274 Expected: 20.0\n",
      "Predicted:  24.017387 Expected: 18.5\n",
      "Predicted:  31.48755 Expected: 20.9\n",
      "Predicted:  23.05803 Expected: 23.0\n",
      "Predicted:  23.941395 Expected: 27.5\n",
      "Predicted:  33.422554 Expected: 30.1\n",
      "Predicted:  6.533833 Expected: 9.5\n",
      "Predicted:  22.945215 Expected: 22.0\n",
      "Predicted:  22.557629 Expected: 21.2\n",
      "Predicted:  8.100646 Expected: 14.1\n"
     ]
    }
   ],
   "source": [
    "# Make a prediction on it:\n",
    "result = linear_est.predict(val_input_fun)\n",
    "for pred,exp in zip(result, y_test[:32]):\n",
    "    print(\"Predicted: \", pred['predictions'][0], \"Expected:\", exp)"
   ],
   "metadata": {
    "collapsed": false,
    "pycharm": {
     "name": "#%%\n"
    }
   }
  },
  {
   "cell_type": "code",
   "execution_count": null,
   "outputs": [],
   "source": [],
   "metadata": {
    "collapsed": false,
    "pycharm": {
     "name": "#%%\n"
    }
   }
  }
 ],
 "metadata": {
  "kernelspec": {
   "display_name": "Python 3",
   "language": "python",
   "name": "python3"
  },
  "language_info": {
   "codemirror_mode": {
    "name": "ipython",
    "version": 2
   },
   "file_extension": ".py",
   "mimetype": "text/x-python",
   "name": "python",
   "nbconvert_exporter": "python",
   "pygments_lexer": "ipython2",
   "version": "2.7.6"
  }
 },
 "nbformat": 4,
 "nbformat_minor": 0
}